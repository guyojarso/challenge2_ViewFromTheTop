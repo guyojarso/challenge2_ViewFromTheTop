{
 "cells": [
  {
   "cell_type": "code",
   "execution_count": 1,
   "metadata": {},
   "outputs": [],
   "source": [
    "import pandas as pd\n",
    "import numpy as np\n",
    "\n",
    "from sklearn.ensemble import RandomForestClassifier, AdaBoostClassifier, GradientBoostingClassifier, ExtraTreesClassifier, VotingClassifier\n",
    "from sklearn.model_selection import GridSearchCV, cross_val_score, StratifiedKFold\n",
    "\n",
    "\n",
    "from sklearn.preprocessing import LabelEncoder\n",
    "from sklearn.metrics import accuracy_score\n",
    "from sklearn.preprocessing import MinMaxScaler"
   ]
  },
  {
   "cell_type": "code",
   "execution_count": 2,
   "metadata": {
    "scrolled": false
   },
   "outputs": [],
   "source": [
    "train = pd.read_csv(\"~/Desktop/data_urban/challenge2_ViewFromTheTop/data/urban_land_cover_train.csv\")\n",
    "test = pd.read_csv(\"~/Desktop/data_urban/challenge2_ViewFromTheTop/data/urban_land_cover_test.csv\")\n"
   ]
  },
  {
   "cell_type": "code",
   "execution_count": 3,
   "metadata": {},
   "outputs": [],
   "source": [
    "train = train.drop(['Unnamed: 0'], axis=1)\n",
    "test = test.drop(['Unnamed: 0'], axis=1)"
   ]
  },
  {
   "cell_type": "code",
   "execution_count": 4,
   "metadata": {
    "collapsed": true
   },
   "outputs": [],
   "source": [
    "le = LabelEncoder()\n",
    "classes = np.array(train['class'])\n",
    "le.fit(classes)\n",
    "train['class'] = le.transform(classes)\n",
    "Y_train = train['class']"
   ]
  },
  {
   "cell_type": "markdown",
   "metadata": {},
   "source": [
    "**The process that produces this top_fifty has been shared at the bottom of the this notebook**"
   ]
  },
  {
   "cell_type": "code",
   "execution_count": 5,
   "metadata": {
    "collapsed": true
   },
   "outputs": [],
   "source": [
    "\n",
    "top_fifty = ['NDVI',\n",
    " 'Mean_G',\n",
    " 'Mean_G_80',\n",
    " 'ShpIndx_100',\n",
    " 'SD_G_60',\n",
    " 'Mean_R',\n",
    " 'Mean_R_60',\n",
    " 'ShpIndx_80',\n",
    " 'Area',\n",
    " 'SD_NIR',\n",
    " 'NDVI_40',\n",
    " 'NDVI_60',\n",
    " 'Mean_NIR_80',\n",
    " 'Mean_NIR_40',\n",
    " 'Mean_R_80',\n",
    " 'Mean_R_40',\n",
    " 'Mean_NIR_140',\n",
    " 'Bright_60',\n",
    " 'SD_G_120',\n",
    " 'Bright_40',\n",
    " 'BrdIndx_40',\n",
    " 'Compact_120',\n",
    " 'Bright',\n",
    " 'Mean_NIR',\n",
    " 'NDVI_80',\n",
    " 'Bright_100',\n",
    " 'Mean_NIR_100',\n",
    " 'GLCM2_60',\n",
    " 'GLCM3',\n",
    " 'Mean_R_120',\n",
    " 'Bright_80',\n",
    " 'Mean_G_60',\n",
    " 'Mean_R_140',\n",
    " 'Mean_NIR_60',\n",
    " 'Bright_120',\n",
    " 'GLCM1_80',\n",
    " 'Mean_G_40',\n",
    " 'Mean_R_100',\n",
    " 'NDVI_120',\n",
    " 'Rect_120',\n",
    " 'Mean_NIR_120',\n",
    " 'NDVI_100',\n",
    " 'NDVI_140',\n",
    " 'Dens_120',\n",
    " 'BordLngth',\n",
    " 'BordLngth_100',\n",
    " 'SD_G',\n",
    " 'Mean_G_140',\n",
    " 'ShpIndx_60',\n",
    " 'GLCM1_60']"
   ]
  },
  {
   "cell_type": "code",
   "execution_count": 6,
   "metadata": {},
   "outputs": [
    {
     "data": {
      "text/plain": [
       "(675, 20)"
      ]
     },
     "execution_count": 6,
     "metadata": {},
     "output_type": "execute_result"
    }
   ],
   "source": [
    "ncor = [x for x in train.columns if x != 'class']\n",
    "ncors = top_fifty[:20]\n",
    "train_rows = train.shape[0]\n",
    "\n",
    "dataset = pd.concat(objs=[train[ncors], test[ncors]], axis=0).reset_index(drop=True)\n",
    "dataset.shape"
   ]
  },
  {
   "cell_type": "code",
   "execution_count": 7,
   "metadata": {},
   "outputs": [],
   "source": [
    "for col in ncors:\n",
    "    if dataset[col].skew() > 2:\n",
    "        \n",
    "        \n",
    "        dataset[col] = MinMaxScaler().fit_transform(dataset[[col]])\n",
    "        "
   ]
  },
  {
   "cell_type": "code",
   "execution_count": 8,
   "metadata": {
    "collapsed": true
   },
   "outputs": [],
   "source": [
    "X_train = dataset[:train_rows]\n",
    "test = dataset[train_rows:]"
   ]
  },
  {
   "cell_type": "code",
   "execution_count": 9,
   "metadata": {
    "collapsed": true
   },
   "outputs": [],
   "source": [
    "random_state = 7\n",
    "kfold = StratifiedKFold(n_splits=13)\n"
   ]
  },
  {
   "cell_type": "code",
   "execution_count": 16,
   "metadata": {},
   "outputs": [
    {
     "name": "stdout",
     "output_type": "stream",
     "text": [
      "ok\n"
     ]
    }
   ],
   "source": [
    "extra_model = ExtraTreesClassifier(random_state=780)\n",
    "ex_param_grid = {\"max_depth\":[None], \"max_features\": [1,3,10], \n",
    "                \"min_samples_split\":[2,3,10], \"min_samples_leaf\":[1,3,10], \n",
    "                \"bootstrap\":[False], \"n_estimators\":[10,100, 300], \"criterion\": [\"gini\"]}\n",
    "\n",
    "extra = GridSearchCV(extra_model, param_grid=ex_param_grid, cv=kfold, scoring=\"accuracy\", verbose=1)\n",
    "extra.fit(X_train, Y_train)\n",
    "extra_best = extra.best_estimator_\n",
    "extra.best_score_  "
   ]
  },
  {
   "cell_type": "code",
   "execution_count": 11,
   "metadata": {
    "collapsed": true
   },
   "outputs": [],
   "source": [
    "extra_preds = pd.DataFrame({\"class\": le.inverse_transform(extra.predict(test))})\n",
    "extra_preds['class'] = extra_preds['class'].map(lambda x: x.strip())"
   ]
  },
  {
   "cell_type": "code",
   "execution_count": 12,
   "metadata": {
    "collapsed": true
   },
   "outputs": [],
   "source": [
    "extra_preds.to_csv('Desktop/myresults/extratrees_urban_land_cover_predictions.csv')"
   ]
  },
  {
   "cell_type": "code",
   "execution_count": 13,
   "metadata": {},
   "outputs": [
    {
     "name": "stdout",
     "output_type": "stream",
     "text": [
      "        <<<<<END>>>>>>>\n"
     ]
    }
   ],
   "source": [
    "\n",
    "\"\"\"\n",
    "rf_feature = RFC_best.fit(X_train, Y_train).feature_importances_\n",
    "gb_feature = GBC_best.fit(X_train, Y_train).feature_importances_\n",
    "ext_feature = ExtC_best.fit(X_train, Y_train).feature_importances_\n",
    "ada_feature = ada_best.fit(X_train, Y_train).feature_importances_\n",
    "\n",
    "features_df = pd.DataFrame({\n",
    "    'features': ncors, \n",
    "    'RandomForest':rf_feature, \n",
    "    'ExtraTrees': ext_feature, \n",
    "    'ada': ada_feature\n",
    "})\n",
    "\n",
    "features_df['Mean'] = features_df.mean(axis=1)\n",
    "features_sorted = features_df.sort_values(['Mean'], ascending=False)\n",
    "\n",
    "top_fifty = list(features_sorted['features'])\n",
    "\"\"\"\n",
    "print(\"        <<<<<END>>>>>>>\")"
   ]
  },
  {
   "cell_type": "code",
   "execution_count": null,
   "metadata": {
    "collapsed": true
   },
   "outputs": [],
   "source": []
  }
 ],
 "metadata": {
  "kernelspec": {
   "display_name": "Python 3",
   "language": "python",
   "name": "python3"
  },
  "language_info": {
   "codemirror_mode": {
    "name": "ipython",
    "version": 3
   },
   "file_extension": ".py",
   "mimetype": "text/x-python",
   "name": "python",
   "nbconvert_exporter": "python",
   "pygments_lexer": "ipython3",
   "version": "3.6.2"
  }
 },
 "nbformat": 4,
 "nbformat_minor": 2
}
